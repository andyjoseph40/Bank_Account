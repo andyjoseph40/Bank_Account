{
 "cells": [
  {
   "cell_type": "code",
   "execution_count": 79,
   "id": "3bbaf861",
   "metadata": {},
   "outputs": [],
   "source": [
    "# CREATING A BANK ACCOUNT USING OBJECT ORIENTED PROGRAM\n",
    "\n",
    "# Defining the Account class and its attributes\n",
    "import random\n",
    "\n",
    "class Account:    \n",
    "    def __init__(self, account_number: random.randint(1000000, 100000000000), account_balance: float, account_holder: str):\n",
    "        \n",
    "        self.account_number = account_number\n",
    "        self.account_balance = account_balance\n",
    "        self.account_holder = account_holder\n",
    "\n",
    "# Define the deposit() method. It should take in one argument, the amount to be deposited, and add it to the account balance. \n",
    "    def deposit(self):\n",
    "        amount = float(input(\"Enter amount to be deposited: \"))\n",
    "        self.account_balance = self.account_balance + amount\n",
    "        print(f\"The amount deposited is {amount} and your new balance is {self.account_balance}\")\n",
    "        \n",
    "# The method should only execute the withdrawal if the account balance is greater than or equal to the amount to be withdrawn.       \n",
    "    def withdraw(self):\n",
    "        amount = float(input(\"Enter amount to be withdrawn: \"))\n",
    "        if self.account_balance >= amount:\n",
    "            self.account_balance = self.account_balance - amount\n",
    "            print(f\"You have withdrawn {amount} and your new balance is {self.account_balance}\")\n",
    "        else:\n",
    "            print(\"You have insufficient funds\")\n",
    "            \n",
    "# Define the check_balance() method. It should return the current account balance.    \n",
    "    def check_balance(self):\n",
    "        return self.account_balance\n",
    "    \n",
    "    def holder_info(self):\n",
    "        return (f\"account name is {self.account_holder}, your account number is {self.account_number}, your new balance is {self.account_balance}\")\n",
    "    \n",
    "# creating an instance of the Account class\n",
    "my_account = Account(random.randint(1000000, 100000000000), 5000.00, \"Andy Joseph.\")\n",
    "        \n",
    "        \n",
    "        "
   ]
  },
  {
   "cell_type": "code",
   "execution_count": 66,
   "id": "d7a867a4",
   "metadata": {},
   "outputs": [
    {
     "name": "stdout",
     "output_type": "stream",
     "text": [
      "Enter amount to be deposited: 500\n",
      "The amount deposited is 500.0 and your new balance is 5500.0\n"
     ]
    }
   ],
   "source": [
    "my_account.deposit()"
   ]
  },
  {
   "cell_type": "code",
   "execution_count": 67,
   "id": "9d1d7ede",
   "metadata": {},
   "outputs": [
    {
     "name": "stdout",
     "output_type": "stream",
     "text": [
      "Enter amount to be withdrawn: 1000\n",
      "You have withdrawn 1000.0 and your new balance is 4500.0\n"
     ]
    }
   ],
   "source": [
    "my_account.withdraw()"
   ]
  },
  {
   "cell_type": "code",
   "execution_count": 68,
   "id": "1fa872f2",
   "metadata": {},
   "outputs": [
    {
     "data": {
      "text/plain": [
       "4500.0"
      ]
     },
     "execution_count": 68,
     "metadata": {},
     "output_type": "execute_result"
    }
   ],
   "source": [
    "my_account.check_balance()"
   ]
  },
  {
   "cell_type": "code",
   "execution_count": 69,
   "id": "6aa3b79b",
   "metadata": {},
   "outputs": [
    {
     "data": {
      "text/plain": [
       "'account name is Andy Joseph., your account number is 10819540751, your new balance is 4500.0'"
      ]
     },
     "execution_count": 69,
     "metadata": {},
     "output_type": "execute_result"
    }
   ],
   "source": [
    "my_account.holder_info()"
   ]
  },
  {
   "cell_type": "code",
   "execution_count": 85,
   "id": "ab1ba9de",
   "metadata": {},
   "outputs": [],
   "source": [
    "# Test the program by creating multiple instances of the class and performing different transactions on them.\n",
    "my_account1 = Account(random.randint(1000000, 100000000000), 4000.00, \"Chuks Joseph.\")"
   ]
  },
  {
   "cell_type": "code",
   "execution_count": 87,
   "id": "8ee2f667",
   "metadata": {},
   "outputs": [
    {
     "data": {
      "text/plain": [
       "'account name is Chuks Joseph., your account number is 45508884345, your new balance is 4000.0'"
      ]
     },
     "execution_count": 87,
     "metadata": {},
     "output_type": "execute_result"
    }
   ],
   "source": [
    "my_account1.holder_info()"
   ]
  },
  {
   "cell_type": "code",
   "execution_count": 90,
   "id": "432c22df",
   "metadata": {},
   "outputs": [
    {
     "data": {
      "text/plain": [
       "4000.0"
      ]
     },
     "execution_count": 90,
     "metadata": {},
     "output_type": "execute_result"
    }
   ],
   "source": [
    "my_account1.check_balance()"
   ]
  },
  {
   "cell_type": "code",
   "execution_count": 91,
   "id": "8d2240a7",
   "metadata": {},
   "outputs": [
    {
     "name": "stdout",
     "output_type": "stream",
     "text": [
      "Enter amount to be deposited: 3000\n",
      "The amount deposited is 3000.0 and your new balance is 8000.0\n"
     ]
    }
   ],
   "source": [
    "my_account.deposit()"
   ]
  },
  {
   "cell_type": "code",
   "execution_count": 92,
   "id": "428c5b77",
   "metadata": {},
   "outputs": [
    {
     "name": "stdout",
     "output_type": "stream",
     "text": [
      "Enter amount to be withdrawn: 2000\n",
      "You have withdrawn 2000.0 and your new balance is 6000.0\n"
     ]
    }
   ],
   "source": [
    "my_account.withdraw()"
   ]
  },
  {
   "cell_type": "code",
   "execution_count": null,
   "id": "50f91956",
   "metadata": {},
   "outputs": [],
   "source": []
  }
 ],
 "metadata": {
  "kernelspec": {
   "display_name": "Python 3 (ipykernel)",
   "language": "python",
   "name": "python3"
  },
  "language_info": {
   "codemirror_mode": {
    "name": "ipython",
    "version": 3
   },
   "file_extension": ".py",
   "mimetype": "text/x-python",
   "name": "python",
   "nbconvert_exporter": "python",
   "pygments_lexer": "ipython3",
   "version": "3.11.5"
  }
 },
 "nbformat": 4,
 "nbformat_minor": 5
}
